{
 "cells": [
  {
   "cell_type": "markdown",
   "id": "809f6f6e",
   "metadata": {},
   "source": [
    "# Assignment 4.2: Dataset Visualization Coding Challenge\n",
    "*The goal of this week’s challenge is to practice your coding skills by creating a Boxplot with the  Iris Dataset  Click for more options using either Python or R.*\n",
    "\n",
    "*The Iris Dataset was introduced by Ronald Fisher in 1936 and consists of three different species of Irises (Iris setosa, Iris virginica, and Iris versicolor) with 50 samples from each of the three species.  For each of the samples, the four measurements of sepal length, sepal width, petal length, and petal width are included along with an “ID” column, thus resulting in a dataset that has 6 columns and 150 rows.*\n",
    "\n",
    "*A boxplot, sometimes referred to as a box-and-whiskers plot, is an excellent way to graphically depict the comparison of the distribution of variables. Boxplots are incredibly useful visualizations as they deliver a high quantity of information in a small amount of space which makes it easy to compare variable distributions side-by-side.  Figure 1 demonstrates how to interpret the different parts of a boxplot.*\n",
    "\n",
    "*Figure 1 (Different Parts of a Boxplot):*"
   ]
  },
  {
   "cell_type": "code",
   "execution_count": 1,
   "id": "37a7eda7",
   "metadata": {},
   "outputs": [],
   "source": [
    "import numpy as np\n",
    "import pandas as pd \n",
    "import matplotlib.pyplot as plt \n",
    "import seaborn as sns \n"
   ]
  },
  {
   "cell_type": "code",
   "execution_count": 2,
   "id": "98883ca7",
   "metadata": {},
   "outputs": [
    {
     "data": {
      "text/html": [
       "<div>\n",
       "<style scoped>\n",
       "    .dataframe tbody tr th:only-of-type {\n",
       "        vertical-align: middle;\n",
       "    }\n",
       "\n",
       "    .dataframe tbody tr th {\n",
       "        vertical-align: top;\n",
       "    }\n",
       "\n",
       "    .dataframe thead th {\n",
       "        text-align: right;\n",
       "    }\n",
       "</style>\n",
       "<table border=\"1\" class=\"dataframe\">\n",
       "  <thead>\n",
       "    <tr style=\"text-align: right;\">\n",
       "      <th></th>\n",
       "      <th>Id</th>\n",
       "      <th>SepalLengthCm</th>\n",
       "      <th>SepalWidthCm</th>\n",
       "      <th>PetalLengthCm</th>\n",
       "      <th>PetalWidthCm</th>\n",
       "      <th>Species</th>\n",
       "    </tr>\n",
       "  </thead>\n",
       "  <tbody>\n",
       "    <tr>\n",
       "      <th>0</th>\n",
       "      <td>1</td>\n",
       "      <td>5.1</td>\n",
       "      <td>3.5</td>\n",
       "      <td>1.4</td>\n",
       "      <td>0.2</td>\n",
       "      <td>Iris-setosa</td>\n",
       "    </tr>\n",
       "    <tr>\n",
       "      <th>1</th>\n",
       "      <td>2</td>\n",
       "      <td>4.9</td>\n",
       "      <td>3.0</td>\n",
       "      <td>1.4</td>\n",
       "      <td>0.2</td>\n",
       "      <td>Iris-setosa</td>\n",
       "    </tr>\n",
       "  </tbody>\n",
       "</table>\n",
       "</div>"
      ],
      "text/plain": [
       "   Id  SepalLengthCm  SepalWidthCm  PetalLengthCm  PetalWidthCm      Species\n",
       "0   1            5.1           3.5            1.4           0.2  Iris-setosa\n",
       "1   2            4.9           3.0            1.4           0.2  Iris-setosa"
      ]
     },
     "execution_count": 2,
     "metadata": {},
     "output_type": "execute_result"
    }
   ],
   "source": [
    "# uploading the database \n",
    "df = pd.read_csv('Iris.csv',sep = ',')\n",
    "# printing out the first two rows \n",
    "df.head(2)"
   ]
  },
  {
   "cell_type": "markdown",
   "id": "c7fdb6b4",
   "metadata": {},
   "source": [
    "### Part 1:\n",
    "*Create a boxplot using the Iris Dataset that depicts the distribution of the various petal lengths or sepal lengths of each species. \n",
    "Boxplot customizations, at a minimum, must include:\n",
    "The main title,*\n",
    "* Labeled “x” and “y” axes*"
   ]
  },
  {
   "cell_type": "code",
   "execution_count": 3,
   "id": "46eefbb8",
   "metadata": {},
   "outputs": [
    {
     "data": {
      "image/png": "[encoded data removed]",
      "text/plain": [
       "<Figure size 432x288 with 1 Axes>"
      ]
     },
     "metadata": {
      "needs_background": "light"
     },
     "output_type": "display_data"
    }
   ],
   "source": [
    "#ploting a Boxplot\n",
    "sns.boxplot(\n",
    "    x= df.SepalLengthCm,\n",
    "    y= df.Species\n",
    ")\n",
    "plt.title('Boxplot of Sepal Length')\n",
    "plt.xlabel('Sepal Length in Cm')\n",
    "plt.ylabel('Species')\n",
    "plt.show()"
   ]
  },
  {
   "cell_type": "code",
   "execution_count": 4,
   "id": "a55a8bea",
   "metadata": {},
   "outputs": [
    {
     "data": {
      "text/html": [
       "<div>\n",
       "<style scoped>\n",
       "    .dataframe tbody tr th:only-of-type {\n",
       "        vertical-align: middle;\n",
       "    }\n",
       "\n",
       "    .dataframe tbody tr th {\n",
       "        vertical-align: top;\n",
       "    }\n",
       "\n",
       "    .dataframe thead th {\n",
       "        text-align: right;\n",
       "    }\n",
       "</style>\n",
       "<table border=\"1\" class=\"dataframe\">\n",
       "  <thead>\n",
       "    <tr style=\"text-align: right;\">\n",
       "      <th></th>\n",
       "      <th>Id</th>\n",
       "      <th>SepalLengthCm</th>\n",
       "      <th>SepalWidthCm</th>\n",
       "      <th>PetalLengthCm</th>\n",
       "      <th>PetalWidthCm</th>\n",
       "    </tr>\n",
       "  </thead>\n",
       "  <tbody>\n",
       "    <tr>\n",
       "      <th>count</th>\n",
       "      <td>150.000000</td>\n",
       "      <td>150.000000</td>\n",
       "      <td>150.000000</td>\n",
       "      <td>150.000000</td>\n",
       "      <td>150.000000</td>\n",
       "    </tr>\n",
       "    <tr>\n",
       "      <th>mean</th>\n",
       "      <td>75.500000</td>\n",
       "      <td>5.843333</td>\n",
       "      <td>3.054000</td>\n",
       "      <td>3.758667</td>\n",
       "      <td>1.198667</td>\n",
       "    </tr>\n",
       "    <tr>\n",
       "      <th>std</th>\n",
       "      <td>43.445368</td>\n",
       "      <td>0.828066</td>\n",
       "      <td>0.433594</td>\n",
       "      <td>1.764420</td>\n",
       "      <td>0.763161</td>\n",
       "    </tr>\n",
       "    <tr>\n",
       "      <th>min</th>\n",
       "      <td>1.000000</td>\n",
       "      <td>4.300000</td>\n",
       "      <td>2.000000</td>\n",
       "      <td>1.000000</td>\n",
       "      <td>0.100000</td>\n",
       "    </tr>\n",
       "    <tr>\n",
       "      <th>25%</th>\n",
       "      <td>38.250000</td>\n",
       "      <td>5.100000</td>\n",
       "      <td>2.800000</td>\n",
       "      <td>1.600000</td>\n",
       "      <td>0.300000</td>\n",
       "    </tr>\n",
       "    <tr>\n",
       "      <th>50%</th>\n",
       "      <td>75.500000</td>\n",
       "      <td>5.800000</td>\n",
       "      <td>3.000000</td>\n",
       "      <td>4.350000</td>\n",
       "      <td>1.300000</td>\n",
       "    </tr>\n",
       "    <tr>\n",
       "      <th>75%</th>\n",
       "      <td>112.750000</td>\n",
       "      <td>6.400000</td>\n",
       "      <td>3.300000</td>\n",
       "      <td>5.100000</td>\n",
       "      <td>1.800000</td>\n",
       "    </tr>\n",
       "    <tr>\n",
       "      <th>max</th>\n",
       "      <td>150.000000</td>\n",
       "      <td>7.900000</td>\n",
       "      <td>4.400000</td>\n",
       "      <td>6.900000</td>\n",
       "      <td>2.500000</td>\n",
       "    </tr>\n",
       "  </tbody>\n",
       "</table>\n",
       "</div>"
      ],
      "text/plain": [
       "               Id  SepalLengthCm  SepalWidthCm  PetalLengthCm  PetalWidthCm\n",
       "count  150.000000     150.000000    150.000000     150.000000    150.000000\n",
       "mean    75.500000       5.843333      3.054000       3.758667      1.198667\n",
       "std     43.445368       0.828066      0.433594       1.764420      0.763161\n",
       "min      1.000000       4.300000      2.000000       1.000000      0.100000\n",
       "25%     38.250000       5.100000      2.800000       1.600000      0.300000\n",
       "50%     75.500000       5.800000      3.000000       4.350000      1.300000\n",
       "75%    112.750000       6.400000      3.300000       5.100000      1.800000\n",
       "max    150.000000       7.900000      4.400000       6.900000      2.500000"
      ]
     },
     "execution_count": 4,
     "metadata": {},
     "output_type": "execute_result"
    }
   ],
   "source": [
    "df.describe()"
   ]
  },
  {
   "cell_type": "markdown",
   "id": "5ea5959c",
   "metadata": {},
   "source": [
    "### Part 2:\n",
    "*Interpret your boxplot. Your interpretation should describe:*\n",
    "* Describe the data distribution (is the data symmetrical or skewed).\n",
    "* Estimate minimum, median, maximum, and IQR.\n",
    "* If there are any outliers.\n",
    "* Any notable comparisons within the PetalLengthCm or SepalLengthCm"
   ]
  },
  {
   "cell_type": "code",
   "execution_count": 5,
   "id": "ccb272cf",
   "metadata": {},
   "outputs": [
    {
     "data": {
      "image/png": "[encoded data removed]",
      "text/plain": [
       "<Figure size 432x288 with 1 Axes>"
      ]
     },
     "metadata": {
      "needs_background": "light"
     },
     "output_type": "display_data"
    }
   ],
   "source": [
    "# Create basic histogram\n",
    "fig = plt.figure()\n",
    "plt.hist(df['SepalLengthCm'], bins= 100,color=\"dodgerblue\")\n",
    "#sns.distplot(df['price']) \n",
    "\n",
    "\n",
    "plt.ylabel('Sepal Length Cm') # creates label for y axis\n",
    "plt.title('Sepal Length Distribution')# creates title\n",
    "plt.show()"
   ]
  },
  {
   "cell_type": "code",
   "execution_count": 6,
   "id": "92fdb4a8",
   "metadata": {},
   "outputs": [
    {
     "name": "stderr",
     "output_type": "stream",
     "text": [
      "/Users/mirnaphilip/opt/anaconda3/lib/python3.8/site-packages/seaborn/distributions.py:2557: FutureWarning: `distplot` is a deprecated function and will be removed in a future version. Please adapt your code to use either `displot` (a figure-level function with similar flexibility) or `histplot` (an axes-level function for histograms).\n",
      "  warnings.warn(msg, FutureWarning)\n"
     ]
    },
    {
     "data": {
      "image/png": "[encoded data removed]",
      "text/plain": [
       "<Figure size 432x288 with 1 Axes>"
      ]
     },
     "metadata": {
      "needs_background": "light"
     },
     "output_type": "display_data"
    }
   ],
   "source": [
    "sns.distplot(df.SepalLengthCm)\n",
    "plt.ylabel('Sepal Length Cm') # creates label for y axis\n",
    "plt.title('Sepal Length Distribution')# creates title\n",
    "plt.show()"
   ]
  },
  {
   "cell_type": "code",
   "execution_count": 7,
   "id": "92b4b933",
   "metadata": {},
   "outputs": [
    {
     "data": {
      "text/plain": [
       "count    150.000000\n",
       "mean       5.843333\n",
       "std        0.828066\n",
       "min        4.300000\n",
       "25%        5.100000\n",
       "50%        5.800000\n",
       "75%        6.400000\n",
       "max        7.900000\n",
       "Name: SepalLengthCm, dtype: float64"
      ]
     },
     "execution_count": 7,
     "metadata": {},
     "output_type": "execute_result"
    }
   ],
   "source": [
    "df.SepalLengthCm.describe()"
   ]
  },
  {
   "cell_type": "code",
   "execution_count": 17,
   "id": "fb019d58",
   "metadata": {},
   "outputs": [
    {
     "data": {
      "text/plain": [
       "0    5.0\n",
       "dtype: float64"
      ]
     },
     "execution_count": 17,
     "metadata": {},
     "output_type": "execute_result"
    }
   ],
   "source": [
    "#the mode of SepalLengthCm\n",
    "df.SepalLengthCm.mode()"
   ]
  },
  {
   "cell_type": "code",
   "execution_count": 9,
   "id": "20ceda01",
   "metadata": {},
   "outputs": [
    {
     "data": {
      "text/plain": [
       "5.843333333333335"
      ]
     },
     "execution_count": 9,
     "metadata": {},
     "output_type": "execute_result"
    }
   ],
   "source": [
    "#the mean of SepalLengthCm\n",
    "df.SepalLengthCm.mean()"
   ]
  },
  {
   "cell_type": "code",
   "execution_count": 10,
   "id": "3ad74252",
   "metadata": {},
   "outputs": [
    {
     "data": {
      "text/plain": [
       "5.8"
      ]
     },
     "execution_count": 10,
     "metadata": {},
     "output_type": "execute_result"
    }
   ],
   "source": [
    "#the median of SepalLengthCm\n",
    "df.SepalLengthCm.median()"
   ]
  },
  {
   "cell_type": "code",
   "execution_count": 11,
   "id": "698b5e9d",
   "metadata": {},
   "outputs": [
    {
     "data": {
      "text/plain": [
       "4.3"
      ]
     },
     "execution_count": 11,
     "metadata": {},
     "output_type": "execute_result"
    }
   ],
   "source": [
    "# the min of SepalLengthCm\n",
    "df.SepalLengthCm.min()"
   ]
  },
  {
   "cell_type": "code",
   "execution_count": 12,
   "id": "cbe2edc0",
   "metadata": {},
   "outputs": [
    {
     "data": {
      "text/plain": [
       "7.9"
      ]
     },
     "execution_count": 12,
     "metadata": {},
     "output_type": "execute_result"
    }
   ],
   "source": [
    "# the max of SepalLengthCm\n",
    "df.SepalLengthCm.max()"
   ]
  },
  {
   "cell_type": "markdown",
   "id": "7a713d26",
   "metadata": {},
   "source": [
    "*After examining the graphs of mean, mode, and median, I noticed that we have a positively skewed or right-skewed graph. I determined this by observing that the mean is greater than the median, which in turn is greater than the mode, which is a hallmark of a right-skewed distribution.*"
   ]
  },
  {
   "cell_type": "markdown",
   "id": "1f21b104",
   "metadata": {},
   "source": [
    "*Estimating minimum, median, maximum, and IQR:*\n",
    "* minimum is 4.3\n",
    "* median is 5.8\n",
    "* maximum is 7.9\n",
    "* IQR = Q3 - Q1,  \n",
    "     IQR = 75% - 25%,  \n",
    "     IQR = 6.40 - 5.10,  \n",
    "     IQR is 1.30\n"
   ]
  },
  {
   "cell_type": "markdown",
   "id": "0a6cf737",
   "metadata": {},
   "source": [
    "*If there are any outliers.*"
   ]
  },
  {
   "cell_type": "code",
   "execution_count": 13,
   "id": "a55697db",
   "metadata": {},
   "outputs": [
    {
     "data": {
      "image/png": "[encoded data removed]",
      "text/plain": [
       "<Figure size 432x288 with 1 Axes>"
      ]
     },
     "metadata": {
      "needs_background": "light"
     },
     "output_type": "display_data"
    }
   ],
   "source": [
    "#ploting a Boxplot\n",
    "sns.boxplot(\n",
    "    x= df.SepalLengthCm,\n",
    "    y= df.Species\n",
    ")\n",
    "plt.title('Boxplot of Sepal Length')\n",
    "plt.xlabel('Sepal Length in Cm')\n",
    "plt.ylabel('Species')\n",
    "plt.show()"
   ]
  },
  {
   "cell_type": "markdown",
   "id": "5268c444",
   "metadata": {},
   "source": [
    "*As you can see from the graph, there are outliers in the Sepal Length for the Iris-virginica species, specifically at 4.8. This is apparent from the visualization of the data.*"
   ]
  },
  {
   "cell_type": "code",
   "execution_count": null,
   "id": "a42010d9",
   "metadata": {},
   "outputs": [],
   "source": [
    "#ploting a Boxplot\n",
    "sns.boxplot(\n",
    "    x= df.SepalLengthCm,\n",
    "    y= df.Species\n",
    ")\n",
    "plt.title('Boxplot of Sepal Length')\n",
    "plt.xlabel('Sepal Length in Cm')\n",
    "plt.ylabel('Species')\n",
    "plt.show()"
   ]
  }
 ],
 "metadata": {
  "kernelspec": {
   "display_name": "Python 3",
   "language": "python",
   "name": "python3"
  },
  "language_info": {
   "codemirror_mode": {
    "name": "ipython",
    "version": 3
   },
   "file_extension": ".py",
   "mimetype": "text/x-python",
   "name": "python",
   "nbconvert_exporter": "python",
   "pygments_lexer": "ipython3",
   "version": "3.8.8"
  }
 },
 "nbformat": 4,
 "nbformat_minor": 5
}
